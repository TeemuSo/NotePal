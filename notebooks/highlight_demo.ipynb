{
 "cells": [
  {
   "cell_type": "code",
   "execution_count": 34,
   "metadata": {},
   "outputs": [
    {
     "name": "stderr",
     "output_type": "stream",
     "text": [
      "C:\\Users\\sainmi53\\AppData\\Local\\Temp\\ipykernel_15452\\4236283283.py:2: DeprecationWarning: Importing display from IPython.core.display is deprecated since IPython 7.14, please import from IPython display\n",
      "  from IPython.core.display import display, HTML\n"
     ]
    },
    {
     "data": {
      "text/html": [
       "Person 1: Hi everyone, thanks for joining the meeting. Let's start with the budget review. How are we doing on the project budget?"
      ],
      "text/plain": [
       "<IPython.core.display.HTML object>"
      ]
     },
     "metadata": {},
     "output_type": "display_data"
    },
    {
     "data": {
      "text/html": [
       "Person 2: Well, we've had some unexpected expenses come up, so we're over budget by about 10%."
      ],
      "text/plain": [
       "<IPython.core.display.HTML object>"
      ]
     },
     "metadata": {},
     "output_type": "display_data"
    },
    {
     "data": {
      "text/html": [
       "Person 3: That's not a problem at all! We can easily make up for that by increasing our productivity and finishing the remaining tasks faster."
      ],
      "text/plain": [
       "<IPython.core.display.HTML object>"
      ]
     },
     "metadata": {},
     "output_type": "display_data"
    },
    {
     "data": {
      "text/html": [
       "Person 1: That's definitely an optimistic view, but I'm not sure it's realistic. We need to be careful not to cut corners or sacrifice quality in order to finish faster."
      ],
      "text/plain": [
       "<IPython.core.display.HTML object>"
      ]
     },
     "metadata": {},
     "output_type": "display_data"
    },
    {
     "data": {
      "text/html": [
       "Person 2: Agreed. We need to be mindful of our budget, but we also need to make sure we deliver a high-quality product."
      ],
      "text/plain": [
       "<IPython.core.display.HTML object>"
      ]
     },
     "metadata": {},
     "output_type": "display_data"
    },
    {
     "data": {
      "text/html": [
       "Person 3: Right, right. I just want to make sure we don't get too bogged down by the budget. We need to stay focused on the end goal and keep moving forward."
      ],
      "text/plain": [
       "<IPython.core.display.HTML object>"
      ]
     },
     "metadata": {},
     "output_type": "display_data"
    },
    {
     "data": {
      "text/html": [
       "Person 1: I appreciate your enthusiasm, but we need to be realistic about the challenges we're facing. What other problems have come up in the project?"
      ],
      "text/plain": [
       "<IPython.core.display.HTML object>"
      ]
     },
     "metadata": {},
     "output_type": "display_data"
    },
    {
     "data": {
      "text/html": [
       "Person 2: We've had some difficulty coordinating with the design team, which has slowed down our progress."
      ],
      "text/plain": [
       "<IPython.core.display.HTML object>"
      ]
     },
     "metadata": {},
     "output_type": "display_data"
    },
    {
     "data": {
      "text/html": [
       "Person 1: That's definitely a problem we need to address. Can we set up a meeting with the design team to discuss ways to improve communication and coordination?"
      ],
      "text/plain": [
       "<IPython.core.display.HTML object>"
      ]
     },
     "metadata": {},
     "output_type": "display_data"
    },
    {
     "data": {
      "text/html": [
       "Person 3: Absolutely. I'll take care of setting up the meeting."
      ],
      "text/plain": [
       "<IPython.core.display.HTML object>"
      ]
     },
     "metadata": {},
     "output_type": "display_data"
    },
    {
     "data": {
      "text/html": [
       "<h3>Person 1: Great. Let's also make sure we keep track of our remaining tasks and prioritize them accordingly. We need to make sure we stay on track and avoid any further delays.<h3/>"
      ],
      "text/plain": [
       "<IPython.core.display.HTML object>"
      ]
     },
     "metadata": {},
     "output_type": "display_data"
    },
    {
     "data": {
      "text/html": [
       "Person 2: Agreed. I'll make sure to update the project management software with our latest task list and priorities."
      ],
      "text/plain": [
       "<IPython.core.display.HTML object>"
      ]
     },
     "metadata": {},
     "output_type": "display_data"
    },
    {
     "data": {
      "text/html": [
       "Person 1: Thanks. Let's keep in touch and stay on top of things as we move forward."
      ],
      "text/plain": [
       "<IPython.core.display.HTML object>"
      ]
     },
     "metadata": {},
     "output_type": "display_data"
    },
    {
     "data": {
      "text/html": [
       "Person 3: Definitely. Let's do our best to hit our deadlines and deliver a great product."
      ],
      "text/plain": [
       "<IPython.core.display.HTML object>"
      ]
     },
     "metadata": {},
     "output_type": "display_data"
    },
    {
     "data": {
      "text/html": [
       "Person 1: Sounds good. Thanks everyone, that concludes our meeting."
      ],
      "text/plain": [
       "<IPython.core.display.HTML object>"
      ]
     },
     "metadata": {},
     "output_type": "display_data"
    },
    {
     "data": {
      "text/html": [
       "<h3>Person 1: Sorry, I just remembered that we have to close the Apple deal this week. Do we have anyone working on that?<h3/>"
      ],
      "text/plain": [
       "<IPython.core.display.HTML object>"
      ]
     },
     "metadata": {},
     "output_type": "display_data"
    },
    {
     "data": {
      "text/html": [
       "Person 2: Yes, I believe Jane is handling the negotiations with Apple."
      ],
      "text/plain": [
       "<IPython.core.display.HTML object>"
      ]
     },
     "metadata": {},
     "output_type": "display_data"
    },
    {
     "data": {
      "text/html": [
       "Person 1: Great. Let's make sure she has the support she needs to close the deal. This is a big opportunity for us and we need to make sure we don't let it slip through our fingers."
      ],
      "text/plain": [
       "<IPython.core.display.HTML object>"
      ]
     },
     "metadata": {},
     "output_type": "display_data"
    },
    {
     "data": {
      "text/html": [
       "Person 3: I agree. I'll reach out to Jane and offer to help in any way I can."
      ],
      "text/plain": [
       "<IPython.core.display.HTML object>"
      ]
     },
     "metadata": {},
     "output_type": "display_data"
    },
    {
     "data": {
      "text/html": [
       "Person 1: Thanks. We also need to make sure the rest of the team is aware of the importance of this deal and doesn't prioritize anything else above it."
      ],
      "text/plain": [
       "<IPython.core.display.HTML object>"
      ]
     },
     "metadata": {},
     "output_type": "display_data"
    },
    {
     "data": {
      "text/html": [
       "Person 2: I'll send out an email to the team to make sure everyone is aware of the situation and knows to prioritize the Apple deal."
      ],
      "text/plain": [
       "<IPython.core.display.HTML object>"
      ]
     },
     "metadata": {},
     "output_type": "display_data"
    },
    {
     "data": {
      "text/html": [
       "Person 1: Thanks. Let's keep in touch and make sure we do everything we can to close this deal."
      ],
      "text/plain": [
       "<IPython.core.display.HTML object>"
      ]
     },
     "metadata": {},
     "output_type": "display_data"
    },
    {
     "data": {
      "text/html": [
       "Person 3: Absolutely. We need to make sure we put our best foot forward and show Apple why they should do business with us."
      ],
      "text/plain": [
       "<IPython.core.display.HTML object>"
      ]
     },
     "metadata": {},
     "output_type": "display_data"
    },
    {
     "data": {
      "text/html": [
       "Person 1: Agreed. Thanks everyone, let's keep pushing forward and make sure we close this deal."
      ],
      "text/plain": [
       "<IPython.core.display.HTML object>"
      ]
     },
     "metadata": {},
     "output_type": "display_data"
    },
    {
     "data": {
      "text/html": [
       "Person 2: Actually, there are two more topics we need to cover. First, should we postpone the Agillia project until after the Tetranet project is delivered? And second, who is filling in for Jane during her maternity leave?"
      ],
      "text/plain": [
       "<IPython.core.display.HTML object>"
      ]
     },
     "metadata": {},
     "output_type": "display_data"
    },
    {
     "data": {
      "text/html": [
       "<h3>Person 1: Good points. Let's start with the Agillia project. In my opinion, it would be best to postpone it until after the Tetranet project is delivered. The Tetranet project is our top priority right now and we need to make sure we don't spread ourselves too thin.<h3/>"
      ],
      "text/plain": [
       "<IPython.core.display.HTML object>"
      ]
     },
     "metadata": {},
     "output_type": "display_data"
    },
    {
     "data": {
      "text/html": [
       "<h3>Person 3: I agree. We need to focus on delivering the Tetranet project on time and to the best of our abilities. Postponing the Agillia project until later will allow us to do that.<h3/>"
      ],
      "text/plain": [
       "<IPython.core.display.HTML object>"
      ]
     },
     "metadata": {},
     "output_type": "display_data"
    },
    {
     "data": {
      "text/html": [
       "Person 1: Great. As for who will be filling in for Jane during her maternity leave, we'll need to assign someone to take over her responsibilities. Do we have any volunteers?"
      ],
      "text/plain": [
       "<IPython.core.display.HTML object>"
      ]
     },
     "metadata": {},
     "output_type": "display_data"
    },
    {
     "data": {
      "text/html": [
       "Person 2: I'd be happy to take on some of her responsibilities, at least until we can find a more permanent solution."
      ],
      "text/plain": [
       "<IPython.core.display.HTML object>"
      ]
     },
     "metadata": {},
     "output_type": "display_data"
    },
    {
     "data": {
      "text/html": [
       "Person 1: That's very generous of you. Thank you. I'll talk to Jane and see if she has any specific tasks she would like you to take over."
      ],
      "text/plain": [
       "<IPython.core.display.HTML object>"
      ]
     },
     "metadata": {},
     "output_type": "display_data"
    },
    {
     "data": {
      "text/html": [
       "Person 3: Thanks. I'm sure we'll be able to work out a solution that will allow us to continue running smoothly during Jane's absence."
      ],
      "text/plain": [
       "<IPython.core.display.HTML object>"
      ]
     },
     "metadata": {},
     "output_type": "display_data"
    },
    {
     "data": {
      "text/html": [
       "Person 1: Excellent. Thanks everyone, let's keep pushing forward and make sure we deliver great results on the Tetranet project and continue to support Jane during her maternity leave."
      ],
      "text/plain": [
       "<IPython.core.display.HTML object>"
      ]
     },
     "metadata": {},
     "output_type": "display_data"
    },
    {
     "data": {
      "text/html": [
       "Person 2: Absolutely. Let's stay focused and keep moving forward."
      ],
      "text/plain": [
       "<IPython.core.display.HTML object>"
      ]
     },
     "metadata": {},
     "output_type": "display_data"
    },
    {
     "data": {
      "text/html": [
       "Person 3: Agreed. Thanks everyone, have a great day."
      ],
      "text/plain": [
       "<IPython.core.display.HTML object>"
      ]
     },
     "metadata": {},
     "output_type": "display_data"
    }
   ],
   "source": [
    "import os\n",
    "from IPython.core.display import display, HTML\n",
    "from difflib import SequenceMatcher\n",
    "\n",
    "def similar(a, b):\n",
    "    return SequenceMatcher(None, a, b).ratio()\n",
    "\n",
    "os.chdir(\"C:/Users/sainmi53/Desktop/visual code/NotePal\")\n",
    "transcript = []\n",
    "with open('test_data/budget_meeting_simulation.txt', 'r') as f:\n",
    "    for line in f:\n",
    "        if len(line)>2:\n",
    "            transcript.append(line.strip())\n",
    "\n",
    "# get topics from the transcript\n",
    "topics = []\n",
    "# gtp prompt: Create bullet points from the meeting.\n",
    "with open('test_data/summary.txt', 'r') as f:\n",
    "    for line in f:\n",
    "        topics.append(line.strip())\n",
    "\n",
    "# get highlights per topic\n",
    "highlights = []\n",
    "# gpt prompt: Highligth the parts of the transcript that are related to topic X\n",
    "# Topix X is one of the bullets returned above, i.e. \"• Postpone Agillia project until after Tetranet is delivered\"\n",
    "with open('test_data/highlights.txt', 'r') as f:\n",
    "    for line in f:\n",
    "        highlights.append(line.strip())\n",
    "\n",
    "for line1 in transcript:\n",
    "    new_line = line1\n",
    "    for line2 in highlights:\n",
    "        if similar(line1, line2) > 0.6:\n",
    "            new_line = '<h3>'+line1+'<h3/>'\n",
    "            break\n",
    "    display(HTML(new_line))\n",
    "        \n",
    "\n",
    "\n",
    "\n"
   ]
  }
 ],
 "metadata": {
  "kernelspec": {
   "display_name": "Python 3",
   "language": "python",
   "name": "python3"
  },
  "language_info": {
   "codemirror_mode": {
    "name": "ipython",
    "version": 3
   },
   "file_extension": ".py",
   "mimetype": "text/x-python",
   "name": "python",
   "nbconvert_exporter": "python",
   "pygments_lexer": "ipython3",
   "version": "3.9.10"
  },
  "orig_nbformat": 4,
  "vscode": {
   "interpreter": {
    "hash": "51e7008fdcb8d6f65e66b2d1b59713f64a4b0f9b088cf175afd57dcb4916c869"
   }
  }
 },
 "nbformat": 4,
 "nbformat_minor": 2
}

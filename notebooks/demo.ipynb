{
 "cells": [
  {
   "cell_type": "code",
   "execution_count": 33,
   "metadata": {},
   "outputs": [
    {
     "name": "stdout",
     "output_type": "stream",
     "text": [
      "• Today Apple is introducing three revolutionary products: a widescreen iPod with touch controls, a revolutionary mobile phone, and a breakthrough internet communications device. \n"
     ]
    },
    {
     "name": "stderr",
     "output_type": "stream",
     "text": [
      "C:\\Users\\sainmi53\\AppData\\Local\\Temp\\ipykernel_23208\\3626989426.py:3: DeprecationWarning: Importing display from IPython.core.display is deprecated since IPython 7.14, please import from IPython display\n",
      "  from IPython.core.display import display, HTML\n"
     ]
    },
    {
     "data": {
      "text/html": [
       "This is a day I've been looking forward to for two and a half years.Every once in a while a revolutionary product comes along that changes everything.And Apple has been well, first of all, one's very fortunate if you get to work on just one of these in your career, apple's been very fortunate.It's been able to introduce a few of these into the world.84.We introduced the macintosh.<mark background-color: yellow;color: black;>It didn't just change Apple, it changed the whole computer industry.</mark><mark background-color: yellow;color: black;>In 2001 we introduced the first ipod and it didn't just it didn't just change the way we all listen to music.</mark>It changed the entire music industry.Well, today we're introducing three revolutionary products of this class.The first one is a widescreen ipod with touch controls.The second is a revolutionary mobile phone.And the third is a breakthrough internet communications device.<mark background-color: yellow;color: black;>So three things a widescreen ipod with touch controls, a revolutionary mobile phone and a breakthrough internet communications device.</mark>An ipod a phone and an internet communicator an ipod, a phone.Are you getting it?These are not three separate devices.This is one device and we are calling it iPhone today.Today Apple is going to reinvent the phone.And here it is.No, actually, here it is.But we're going to leave it there for now.So before we get into it, let me talk about a category of things.The most advanced phones are called smartphones, so they say, and they typically combine a phone plus some email capability, plus they say it's the internet sort of the baby internet into one device.And they all have these plastic little keyboards on them.And the problem is that they're not so smart and they're not so easy to use.So if you kind of make a business School 101 graph of the smart axis and the easy to use axis phones, regular cell phones are kind of right there.They're not so smart and they're not so easy to use.But smartphones are definitely a little smarter, but they actually are harder to use.They're really complicated just for the basic stuff.People have a hard time figuring out how to use them.Well, we don't want to do either one of these things.What we want to do is make a leapfrog product that is way smarter than any mobile device has ever been and super easy to use.This is what iPhone is.Okay, so we're going to reinvent the phone.Now, we're going to start with a revolutionary user interface is the result of years of research and development and of course, it's an interplay of hardware and software.Now, why do we need a revolutionary user interface?I mean, here's four smartphones, right?Motorola q the BlackBerry pom treo no key 62 the Usual Suspects And what's wrong with their user interfaces?Well, the problem with them is really sort of in the bottom 40 there.It's this stuff right here.They all have these keyboards that are there whether you need them or not to be there.And they all have these control buttons that are fixed in plastic and are the same for every application.Well, every application wants a slightly different user interface, a slightly optimized set of buttons just for it.And what happens if you think of a great idea six months from now?You can't run around and add a button to these things.They're already shipped.So what do you do?It doesn't work because the buttons and the controls can't change.They can't change for each application and they can't change down the road.If you think of another great idea you want to add to this product, well, how do you solve this?It turns out we have solved it.We solved it in computers 20 years ago.We solved it with a bitmap screen that could display anything we want, put any user interface up and a pointing device.We solved it with the mouse.Right, we solved this problem.So how are we going to take this to a mobile device?But what we're going to do is get rid of all these buttons and just make a giant screen.A giant screen.Now, how are we going to communicate this?We don't want to carry around a mouse.Right, so what are we going to do?Oh, a stylus.Right.We're going to use a stylus.No.Who wants a stylus?You have to get them and put them away and you lose them.Yuck.Nobody wants a stylus, so let's not use a stylus.We're going to use the best pointing device in the world.We're going to use a pointing device that we're all born with.We're born with ten of them.We're going to use our fingers.We're going to touch this with our fingers.And we have invented a new technology called multitouch, which is phenomenal.It works like magic.You don't need a stylus.It's far more accurate than any touch display that's ever been shipped.It ignores unintended touches, it's super smart, you can do multifinger gestures on it, and boy, have we patented it.So we've been very lucky to have brought a few revolutionary user interfaces to the market in our time.First was the mouse, the second was the click wheel.And now we're going to bring multitouch to the market.And each of these revolutionary user interfaces has made possible a revolutionary product.The Mac, the ipod and now the iPhone.So, a revolutionary user interface, we're going to build on top of that with software.Now, software on mobile phones is like baby software, it's not so powerful.And today we're going to show you a software breakthrough.Software that's at least five years ahead of what's on any other phone.Now, how do we do this?Well, we start with a strong foundation.iPhone runs OS ten.Now, why would we want to run such a sophisticated operating system on a mobile device?Well, because it's got everything we need.It's got multitasking, it's got the best networking, it already knows how to power manage.We've been doing this on mobile computers for years.It's got awesome security and to write apps.It's got everything from Cocoa and the graphics, and it's got core animation built in, and it's got the audio and video that OS Ten is famous for.It's got all the stuff we want, and it's built right into iPhone.And that has let us create desktop class applications and networking.Right?Not the crippled stuff that you find on most phones.This is real desktop class applications.Now, you know, one of the pioneers of our industry, Alan Kay, has had a lot of great quotes throughout the years.And I ran across one of them recently that explains how we look at this, explains why we go about doing things the way we do.Because we love software.And here's the quote.People who are really serious about software should make their own hardware.Alan said this 30 years ago, and this is how we feel about it.And so we're bringing breakthrough software to a mobile device for the first time.It's five years ahead of anything on any other phone."
      ],
      "text/plain": [
       "<IPython.core.display.HTML object>"
      ]
     },
     "metadata": {},
     "output_type": "display_data"
    }
   ],
   "source": [
    "import os\n",
    "from IPython.core.display import display, HTML\n",
    "from difflib import SequenceMatcher\n",
    "from src.api import aai_upload_file, aai_transcribe, get_pending_results, openai_gpt\n",
    "import pickle\n",
    "from nltk.tokenize import sent_tokenize\n",
    "\n",
    "def similar(a, b):\n",
    "    return SequenceMatcher(None, a, b).ratio()\n",
    "\n",
    "# # send recording to server\n",
    "# url = aai_upload_file('test_data/jobs.mp4')\n",
    "# # create transcript\n",
    "# _, id = aai_transcribe(url)\n",
    "# # get transcript\n",
    "# results = get_pending_results(id)\n",
    "\n",
    "# pickle.dump( results, open( \"jobs.p\", \"wb\" ) )\n",
    "\n",
    "results = pickle.load( open( \"jobs.p\", \"rb\" ) )\n",
    "transcript = results['text']\n",
    "\n",
    "# # get recording type\n",
    "# answer = openai_gpt(\"Is this a meeting, a speach, or a presentation?: \" + transcript)\n",
    "# if 'meeting' in answer:\n",
    "#     record_type = 'meeting'\n",
    "# elif 'speach' in answer:\n",
    "#     record_type = 'speach'\n",
    "# elif 'presentation' in answer:\n",
    "#     record_type = 'presentation'\n",
    "# else:\n",
    "#     Exception('No record type found')\n",
    "# print(f'This is a {record_type}')\n",
    "# # extract topics\n",
    "# answer = openai_gpt(f\"Create bullet points from the {record_type}: \" + transcript)\n",
    "# topics = []\n",
    "# for line in answer.split('\\n'):\n",
    "#     if len(line) > 3 and 'ullet' not in line:\n",
    "#         topics.append(line)\n",
    "#         print(line)\n",
    "# pickle.dump( topics, open( \"topics.p\", \"wb\" ) )\n",
    "\n",
    "topics = pickle.load( open( \"topics.p\", \"rb\" ) )\n",
    "\n",
    "# fetch highlights for topics\n",
    "highlights = {}\n",
    "\n",
    "if len(topics) > 10: Exception('Too many topics')\n",
    "\n",
    "# for bullet in topics:\n",
    "#     lines = openai_gpt(f'Highlight sentences from the text below that are related to topic \"{bullet}\"' + transcript, temperature=0.0).split('\\n')\n",
    "#     highlights[bullet] = lines\n",
    "# pickle.dump( highlights, open( \"high.p\", \"wb\" ) )\n",
    "\n",
    "highlights = pickle.load( open( \"high.p\", \"rb\" ) )\n",
    "\n",
    "\n",
    "# Show highlights for topics\n",
    "# for topic in topics:\n",
    "#     print('topic: ', topic)\n",
    "#     for line in highlights[topic]:\n",
    "#         print(line)\n",
    "\n",
    "# Show transcript and highlights for one of the topics\n",
    "test_topic = topics[0]\n",
    "print(test_topic)\n",
    "\n",
    "html = ''\n",
    "for sentence in sent_tokenize(transcript):\n",
    "    new_sentence = sentence\n",
    "    for highlight in highlights[test_topic]:\n",
    "        if similar(sentence, highlight) > 0.6:\n",
    "            new_sentence = '<mark background-color: yellow;color: black;>'+sentence+'</mark>'\n",
    "            break\n",
    "    html += new_sentence\n",
    "\n",
    "with open('test.html', 'w') as f:\n",
    "    f.write(html)\n",
    "\n",
    "display(HTML(html))\n"
   ]
  }
 ],
 "metadata": {
  "kernelspec": {
   "display_name": "Python 3",
   "language": "python",
   "name": "python3"
  },
  "language_info": {
   "codemirror_mode": {
    "name": "ipython",
    "version": 3
   },
   "file_extension": ".py",
   "mimetype": "text/x-python",
   "name": "python",
   "nbconvert_exporter": "python",
   "pygments_lexer": "ipython3",
   "version": "3.9.10"
  },
  "orig_nbformat": 4,
  "vscode": {
   "interpreter": {
    "hash": "51e7008fdcb8d6f65e66b2d1b59713f64a4b0f9b088cf175afd57dcb4916c869"
   }
  }
 },
 "nbformat": 4,
 "nbformat_minor": 2
}

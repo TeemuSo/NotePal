{
 "cells": [
  {
   "cell_type": "markdown",
   "id": "8983df9b",
   "metadata": {},
   "source": [
    "# Meeting Note Summarizer"
   ]
  },
  {
   "cell_type": "markdown",
   "id": "17e30830",
   "metadata": {},
   "source": [
    "Before starting Jupyter, we need to set the API keys to `init_env_vars.sh` file and source it as `source init_env_vars.sh` to make the environment variables available."
   ]
  },
  {
   "cell_type": "code",
   "execution_count": 10,
   "id": "2bca9652",
   "metadata": {},
   "outputs": [],
   "source": [
    "import os\n",
    "\n",
    "ASSEMBLYAI_APIKEY = os.getenv('ASSEMBLYAI_APIKEY')\n",
    "OPENAI_APIKEY = os.getenv('OPENAI_APIKEY')\n",
    "\n",
    "if ASSEMBLYAI_APIKEY:\n",
    "    print(f\"ASSEMBLY AI API key: {ASSEMBLYAI_APIKEY}\")\n",
    "\n",
    "if OPENAI_APIKEY:\n",
    "    print(f\"OPENAI API key: {OPENAI_APIKEY}\")    "
   ]
  },
  {
   "cell_type": "markdown",
   "id": "9dec9a94",
   "metadata": {},
   "source": []
  }
 ],
 "metadata": {
  "kernelspec": {
   "display_name": "loop_q",
   "language": "python",
   "name": "loop_q"
  },
  "language_info": {
   "codemirror_mode": {
    "name": "ipython",
    "version": 3
   },
   "file_extension": ".py",
   "mimetype": "text/x-python",
   "name": "python",
   "nbconvert_exporter": "python",
   "pygments_lexer": "ipython3",
   "version": "3.6.10"
  }
 },
 "nbformat": 4,
 "nbformat_minor": 5
}
